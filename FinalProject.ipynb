{
 "cells": [
  {
   "cell_type": "code",
   "execution_count": null,
   "id": "initial_id",
   "metadata": {
    "collapsed": true,
    "jupyter": {
     "outputs_hidden": true
    }
   },
   "outputs": [],
   "source": [
    "from flask import Flask, request, jsonify\n",
    "import joblib"
   ]
  },
  {
   "cell_type": "code",
   "outputs": [],
   "source": [
    "import numpy as np\n",
    "import pandas as pd\n",
    "from sklearn.model_selection import train_test_split\n",
    "from sklearn.linear_model import LinearRegression"
   ],
   "metadata": {
    "collapsed": false
   },
   "id": "bd40a464945f90f7",
   "execution_count": null
  },
  {
   "cell_type": "code",
   "outputs": [],
   "source": [
    "# Tạo dữ liệu mẫu cho tệp data.csv\n",
    "np.random.seed(42)  \n",
    "n_samples = 1000\n",
    "x1 = np.random.rand(n_samples) * 10  \n",
    "x2 = np.random.rand(n_samples) * 5   \n",
    "noise = np.random.normal(0, 1, n_samples)  \n",
    "coefficients = [2, 3]\n",
    "y = coefficients[0] * x1 + coefficients[1] * x2 + noise\n",
    "data = pd.DataFrame({'x1': x1, 'x2': x2, 'y': y})\n",
    "\n",
    "data.to_csv('data.csv', index=False)"
   ],
   "metadata": {
    "collapsed": false
   },
   "id": "fc2ded2cf49bd741",
   "execution_count": null
  },
  {
   "cell_type": "code",
   "outputs": [],
   "source": [
    "# Tạo dữ liệu mẫu cho tệp data2.csv\n",
    "new_data_size = 200\n",
    "new_data = pd.DataFrame({\n",
    "    'x1': np.random.rand(new_data_size),\n",
    "    'x2': np.random.rand(new_data_size),\n",
    "    'y': 2 * np.random.rand(new_data_size) + 3\n",
    "})\n",
    "\n",
    "new_data.to_csv('data2.csv', index=False)"
   ],
   "metadata": {
    "collapsed": false
   },
   "id": "a9b541478017cf49",
   "execution_count": null
  },
  {
   "cell_type": "code",
   "outputs": [],
   "source": [
    "data = pd.read_csv('data.csv')"
   ],
   "metadata": {
    "collapsed": false
   },
   "id": "2dd0486bafd9c67e",
   "execution_count": null
  },
  {
   "cell_type": "code",
   "outputs": [],
   "source": [
    "data.head()"
   ],
   "metadata": {
    "collapsed": false
   },
   "id": "9032b68b853a2190",
   "execution_count": null
  },
  {
   "cell_type": "code",
   "outputs": [],
   "source": [
    "X_train, X_test, y_train, y_test = train_test_split(data[['x1', 'x2']], data['y'], test_size=0.25)\n"
   ],
   "metadata": {
    "collapsed": false
   },
   "id": "656013d42bdbb94c",
   "execution_count": null
  },
  {
   "cell_type": "markdown",
   "source": [],
   "metadata": {
    "collapsed": false
   },
   "id": "9ef420e80730499f"
  },
  {
   "cell_type": "markdown",
   "source": [
    " Create the linear regression model"
   ],
   "metadata": {
    "collapsed": false
   },
   "id": "ca8e6ad79aec6b99"
  },
  {
   "cell_type": "code",
   "outputs": [],
   "source": [
    "model = LinearRegression()"
   ],
   "metadata": {
    "collapsed": false
   },
   "id": "c44d302898449977",
   "execution_count": null
  },
  {
   "cell_type": "code",
   "outputs": [],
   "source": [
    "# Fit the model to the training data\n",
    "model.fit(X_train, y_train)"
   ],
   "metadata": {
    "collapsed": false
   },
   "id": "21d4f8dae27af6c2",
   "execution_count": null
  },
  {
   "cell_type": "code",
   "outputs": [],
   "source": [
    "# Make predictions on the test data\n",
    "y_pred = model.predict(X_test)"
   ],
   "metadata": {
    "collapsed": false
   },
   "id": "23c7f97f7f804e49",
   "execution_count": null
  },
  {
   "cell_type": "code",
   "outputs": [],
   "source": [
    "# Evaluate the model\n",
    "print('Mean squared error:', np.mean((y_test - y_pred) ** 2))\n",
    "print('Root mean squared error:', np.sqrt(np.mean((y_test - y_pred) ** 2)))\n"
   ],
   "metadata": {
    "collapsed": false
   },
   "id": "284320b75646cc7f",
   "execution_count": null
  },
  {
   "cell_type": "code",
   "outputs": [],
   "source": [
    "# Save the model using joblib\n",
    "joblib.dump(model, 'model.pkl')"
   ],
   "metadata": {
    "collapsed": false
   },
   "id": "f030091a393faa6b",
   "execution_count": null
  },
  {
   "cell_type": "code",
   "outputs": [],
   "source": [
    "# Continual learning\n",
    "# Load the saved model\n",
    "loaded_model = joblib.load('model.pkl')"
   ],
   "metadata": {
    "collapsed": false
   },
   "id": "2dc8aeb245d9e5d",
   "execution_count": null
  },
  {
   "cell_type": "code",
   "outputs": [],
   "source": [
    "# Train the model on new data\n",
    "data2 = pd.read_csv('data2.csv')\n",
    "loaded_model.fit(data2[['x1', 'x2']], data2['y'])"
   ],
   "metadata": {
    "collapsed": false
   },
   "id": "6a64051c0b6e0580",
   "execution_count": null
  },
  {
   "cell_type": "code",
   "outputs": [],
   "source": [
    "# Make predictions on new data\n",
    "new_y_pred = loaded_model.predict(data2[['x1', 'x2']])\n"
   ],
   "metadata": {
    "collapsed": false
   },
   "id": "de4eaf3a5eff602a",
   "execution_count": null
  },
  {
   "cell_type": "code",
   "outputs": [],
   "source": [
    "# Evaluate the loaded model on new data\n",
    "print('Mean squared error (continual learning):', np.mean((data2['y'] - new_y_pred) ** 2))\n",
    "print('Root mean squared error (continual learning):', np.sqrt(np.mean((data2['y'] - new_y_pred) ** 2)))"
   ],
   "metadata": {
    "collapsed": false
   },
   "id": "1baeb3977da7056a",
   "execution_count": null
  },
  {
   "cell_type": "code",
   "outputs": [],
   "source": [
    "# Test production\n",
    "# Deploy the model to a web service\n",
    "app = Flask(__name__)"
   ],
   "metadata": {
    "collapsed": false
   },
   "id": "f32d117ba60b5aaf",
   "execution_count": null
  },
  {
   "cell_type": "code",
   "outputs": [],
   "source": [
    "# @app.route('/predict', methods=['POST'])\n",
    "# def predict():\n",
    "#     # Get the input data\n",
    "#     data = request.get_json()\n",
    "# \n",
    "#     # Make predictions using the loaded model\n",
    "#     predictions = loaded_model.predict([[data['x1'], data['x2']]])\n",
    "# \n",
    "#     # Return the predictions as JSON\n",
    "#     return jsonify({'prediction': predictions[0]})\n",
    "# \n",
    "# if __name__ == '__main__':\n",
    "#     app.run(debug=True)"
   ],
   "metadata": {
    "collapsed": false
   },
   "id": "3411ef6fd3f5ff59",
   "execution_count": null
  },
  {
   "cell_type": "code",
   "outputs": [],
   "source": [],
   "metadata": {
    "collapsed": false
   },
   "id": "6a642b6da5e02229"
  }
 ],
 "metadata": {
  "kernelspec": {
   "display_name": "Python 3 (ipykernel)",
   "language": "python",
   "name": "python3"
  },
  "language_info": {
   "codemirror_mode": {
    "name": "ipython",
    "version": 3
   },
   "file_extension": ".py",
   "mimetype": "text/x-python",
   "name": "python",
   "nbconvert_exporter": "python",
   "pygments_lexer": "ipython3",
   "version": "3.12.1"
  }
 },
 "nbformat": 4,
 "nbformat_minor": 5
}
